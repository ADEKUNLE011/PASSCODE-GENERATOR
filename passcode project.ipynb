{
 "cells": [
  {
   "cell_type": "markdown",
   "id": "7096c04c",
   "metadata": {},
   "source": [
    "Create a python program that generates random 4 digit code for users"
   ]
  },
  {
   "cell_type": "code",
   "execution_count": 25,
   "id": "de447ef8",
   "metadata": {},
   "outputs": [],
   "source": [
    "import random\n"
   ]
  },
  {
   "cell_type": "code",
   "execution_count": 27,
   "id": "3ad5c904",
   "metadata": {},
   "outputs": [
    {
     "name": "stdout",
     "output_type": "stream",
     "text": [
      "enter the passcode\n",
      "[66, 77, 71]\n",
      "-------------\n",
      "|   |   |   |\n",
      "-------------\n",
      "enter a number: 66\n",
      "-------------\n",
      "| 66 |   |   |\n",
      "-------------\n",
      "enter a number: 77\n",
      "-------------\n",
      "| 66 | 77 |   |\n",
      "-------------\n",
      "enter a number: 71\n",
      "-------------\n",
      "| 66 | 77 | 71 |\n",
      "-------------\n"
     ]
    }
   ],
   "source": [
    "new = [' ',' ',' ']\n",
    "def check():\n",
    "    for i in range(1):\n",
    "        if new[0] == ' ':\n",
    "            new[0] = user\n",
    "            break\n",
    "        if new[1] == ' ':\n",
    "            new[1] = user\n",
    "            break\n",
    "        if new[2] == ' ':\n",
    "            new[2] = user\n",
    "            break\n",
    "\n",
    "print('enter the passcode')\n",
    "def display():\n",
    "    print('-------------')\n",
    "    print('|',new[0], '|' , new[1], '|', new[2], '|')\n",
    "    print('-------------')\n",
    "    \n",
    "passcode = random.sample(range(90),3)\n",
    "print(passcode)\n",
    "display()\n",
    "counter = 0\n",
    "while counter<3:\n",
    "    user = int(input('enter a number: '))\n",
    "    counter = counter + 1\n",
    "    check()\n",
    "    display()\n",
    " \n"
   ]
  },
  {
   "cell_type": "code",
   "execution_count": 30,
   "id": "47b8b527",
   "metadata": {},
   "outputs": [
    {
     "ename": "IndexError",
     "evalue": "list index out of range",
     "output_type": "error",
     "traceback": [
      "\u001b[1;31m---------------------------------------------------------------------------\u001b[0m",
      "\u001b[1;31mIndexError\u001b[0m                                Traceback (most recent call last)",
      "Cell \u001b[1;32mIn[30], line 1\u001b[0m\n\u001b[1;32m----> 1\u001b[0m \u001b[38;5;28;01mif\u001b[39;00m \u001b[43mnew\u001b[49m\u001b[43m[\u001b[49m\u001b[43muser\u001b[49m\u001b[43m]\u001b[49m \u001b[38;5;241m==\u001b[39m passcode:\n\u001b[0;32m      2\u001b[0m     \u001b[38;5;28mprint\u001b[39m(\u001b[38;5;124m'\u001b[39m\u001b[38;5;124mAccount creation successful\u001b[39m\u001b[38;5;124m'\u001b[39m)\n\u001b[0;32m      3\u001b[0m \u001b[38;5;28;01melse\u001b[39;00m:\n",
      "\u001b[1;31mIndexError\u001b[0m: list index out of range"
     ]
    }
   ],
   "source": [
    "if new[user] == passcode:\n",
    "    print('Account creation successful')\n",
    "else:\n",
    "    print('Wrong passcode, try again')"
   ]
  },
  {
   "cell_type": "code",
   "execution_count": null,
   "id": "577df883",
   "metadata": {},
   "outputs": [],
   "source": []
  }
 ],
 "metadata": {
  "kernelspec": {
   "display_name": "Python 3 (ipykernel)",
   "language": "python",
   "name": "python3"
  },
  "language_info": {
   "codemirror_mode": {
    "name": "ipython",
    "version": 3
   },
   "file_extension": ".py",
   "mimetype": "text/x-python",
   "name": "python",
   "nbconvert_exporter": "python",
   "pygments_lexer": "ipython3",
   "version": "3.10.9"
  }
 },
 "nbformat": 4,
 "nbformat_minor": 5
}
